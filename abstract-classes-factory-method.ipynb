{
 "cells": [
  {
   "cell_type": "code",
   "execution_count": 2,
   "metadata": {},
   "outputs": [],
   "source": [
    "from abc import ABC, abstractmethod"
   ]
  },
  {
   "cell_type": "code",
   "execution_count": 22,
   "metadata": {},
   "outputs": [],
   "source": [
    "class AnimalFactory(ABC):\n",
    "    \n",
    "    @abstractmethod\n",
    "    def produce_animal(self):\n",
    "        pass\n",
    "    \n",
    "    \n",
    "class CatFactory(AnimalFactory):\n",
    "    \n",
    "    @staticmethod\n",
    "    def produce_animal(name):\n",
    "        return Cat(name) \n",
    "    \n",
    "    \n",
    "class ElephantFactory(AnimalFactory):\n",
    "    \n",
    "    @staticmethod\n",
    "    def produce_animal(name):\n",
    "        return Elephant(name) \n",
    "    \n",
    "    \n",
    "class Animal(ABC):\n",
    "    \n",
    "    def __init__(self, name):\n",
    "        self.name = name\n",
    "        \n",
    "    @abstractmethod\n",
    "    def hello():\n",
    "        pass\n",
    "    \n",
    "    @abstractmethod\n",
    "    def __repr__(self):\n",
    "        pass\n",
    "    \n",
    "    \n",
    "class Cat(Animal):\n",
    "    \n",
    "    def __repr__(self):\n",
    "        return f'\\U0001F408 {self.name}'\n",
    "    \n",
    "    def hello(self):\n",
    "        print('meow...')\n",
    "        \n",
    "        \n",
    "class Elephant(Animal):\n",
    "    \n",
    "    def __repr__(self):\n",
    "        return f'\\U0001F418 {self.name}'\n",
    "    \n",
    "    def hello(self):\n",
    "        print('mooo...')"
   ]
  },
  {
   "cell_type": "code",
   "execution_count": 23,
   "metadata": {},
   "outputs": [],
   "source": [
    "cat = CatFactory.produce_animal('Trevor')\n",
    "elephant = ElephantFactory.produce_animal('Doris')\n",
    "\n",
    "menagerie = [cat, elephant]"
   ]
  },
  {
   "cell_type": "code",
   "execution_count": 24,
   "metadata": {},
   "outputs": [
    {
     "name": "stdout",
     "output_type": "stream",
     "text": [
      "🐈 Trevor\n",
      "meow...\n",
      "\n",
      "🐘 Doris\n",
      "mooo...\n",
      "\n"
     ]
    }
   ],
   "source": [
    "for animal in menagerie:\n",
    "    print(animal) \n",
    "    animal.hello()\n",
    "    print() "
   ]
  },
  {
   "cell_type": "code",
   "execution_count": null,
   "metadata": {},
   "outputs": [],
   "source": []
  }
 ],
 "metadata": {
  "kernelspec": {
   "display_name": "Python 3",
   "language": "python",
   "name": "python3"
  },
  "language_info": {
   "codemirror_mode": {
    "name": "ipython",
    "version": 3
   },
   "file_extension": ".py",
   "mimetype": "text/x-python",
   "name": "python",
   "nbconvert_exporter": "python",
   "pygments_lexer": "ipython3",
   "version": "3.6.5"
  }
 },
 "nbformat": 4,
 "nbformat_minor": 2
}
